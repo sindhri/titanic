{
 "cells": [
  {
   "cell_type": "markdown",
   "metadata": {},
   "source": [
    "# 3 DEVELOP"
   ]
  },
  {
   "cell_type": "code",
   "execution_count": 1,
   "metadata": {},
   "outputs": [],
   "source": [
    "import pandas as pd\n",
    "import numpy as np\n",
    "from sklearn.model_selection import GridSearchCV\n",
    "from sklearn.model_selection import RandomizedSearchCV\n",
    "from sklearn.model_selection import cross_val_score\n",
    "from sklearn.naive_bayes import GaussianNB\n",
    "from sklearn.linear_model import LogisticRegression\n",
    "from sklearn import tree\n",
    "from sklearn.neighbors import KNeighborsClassifier\n",
    "from sklearn.ensemble import RandomForestClassifier\n",
    "from sklearn.svm import SVC\n",
    "from xgboost import XGBClassifier\n",
    "from sklearn.ensemble import VotingClassifier\n",
    "\n",
    "import sys\n",
    "sys.path.insert(0, './modules')\n",
    "from helpers import read_in_dataset, get_model_feature_importances, clf_performance"
   ]
  },
  {
   "cell_type": "markdown",
   "metadata": {},
   "source": [
    "## 3.1 load the preprocessed data from files"
   ]
  },
  {
   "cell_type": "code",
   "execution_count": 2,
   "metadata": {},
   "outputs": [
    {
     "name": "stdout",
     "output_type": "stream",
     "text": [
      "\n",
      "***********************Reading in the X_train.csv dataset***********************\n",
      "\n",
      "it has 891 rows and 40 columns\n",
      "\n",
      "*************************it has the following columns\n",
      "**************************\n",
      "Index(['Age', 'Cabin_total', 'Parch', 'SibSp', 'norm_Fare',\n",
      "       'Cabin_firstletter_A', 'Cabin_firstletter_B', 'Cabin_firstletter_C',\n",
      "       'Cabin_firstletter_D', 'Cabin_firstletter_E', 'Cabin_firstletter_F',\n",
      "       'Cabin_firstletter_G', 'Cabin_firstletter_T', 'Cabin_firstletter_n',\n",
      "       'Embarked_C', 'Embarked_Q', 'Embarked_S', 'Pclass_1', 'Pclass_2',\n",
      "       'Pclass_3', 'Sex_female', 'Sex_male', 'Ticket_firstletter_A',\n",
      "       'Ticket_firstletter_C', 'Ticket_firstletter_F', 'Ticket_firstletter_L',\n",
      "       'Ticket_firstletter_None', 'Ticket_firstletter_P',\n",
      "       'Ticket_firstletter_S', 'Ticket_firstletter_W', 'name_title_adv_Col',\n",
      "       'name_title_adv_Dr', 'name_title_adv_Major', 'name_title_adv_Master',\n",
      "       'name_title_adv_Miss', 'name_title_adv_Mr', 'name_title_adv_Mrs',\n",
      "       'name_title_adv_Rev', 'name_title_adv_title_nonsurvive',\n",
      "       'name_title_adv_title_survive'],\n",
      "      dtype='object')\n",
      "\n",
      "************************the first 5 rows looks like this************************\n",
      "\n",
      "        Age  Cabin_total     Parch     SibSp  norm_Fare  Cabin_firstletter_A  \\\n",
      "0 -0.584387    -0.488483 -0.473674  0.432793  -0.879741                    0   \n",
      "1  0.621365     1.340249 -0.473674  0.432793   1.361220                    0   \n",
      "2 -0.282949    -0.488483 -0.473674 -0.474545  -0.798540                    0   \n",
      "3  0.395286     1.340249 -0.473674  0.432793   1.062038                    0   \n",
      "4  0.395286    -0.488483 -0.473674 -0.474545  -0.784179                    0   \n",
      "\n",
      "   Cabin_firstletter_B  Cabin_firstletter_C  Cabin_firstletter_D  \\\n",
      "0                    0                    0                    0   \n",
      "1                    0                    1                    0   \n",
      "2                    0                    0                    0   \n",
      "3                    0                    1                    0   \n",
      "4                    0                    0                    0   \n",
      "\n",
      "   Cabin_firstletter_E  ...  name_title_adv_Col  name_title_adv_Dr  \\\n",
      "0                    0  ...                   0                  0   \n",
      "1                    0  ...                   0                  0   \n",
      "2                    0  ...                   0                  0   \n",
      "3                    0  ...                   0                  0   \n",
      "4                    0  ...                   0                  0   \n",
      "\n",
      "   name_title_adv_Major  name_title_adv_Master  name_title_adv_Miss  \\\n",
      "0                     0                      0                    0   \n",
      "1                     0                      0                    0   \n",
      "2                     0                      0                    1   \n",
      "3                     0                      0                    0   \n",
      "4                     0                      0                    0   \n",
      "\n",
      "   name_title_adv_Mr  name_title_adv_Mrs  name_title_adv_Rev  \\\n",
      "0                  1                   0                   0   \n",
      "1                  0                   1                   0   \n",
      "2                  0                   0                   0   \n",
      "3                  0                   1                   0   \n",
      "4                  1                   0                   0   \n",
      "\n",
      "   name_title_adv_title_nonsurvive  name_title_adv_title_survive  \n",
      "0                                0                             0  \n",
      "1                                0                             0  \n",
      "2                                0                             0  \n",
      "3                                0                             0  \n",
      "4                                0                             0  \n",
      "\n",
      "[5 rows x 40 columns]\n",
      "\n",
      "***********************Reading in the X_test.csv dataset************************\n",
      "\n",
      "it has 418 rows and 40 columns\n",
      "\n",
      "*************************it has the following columns\n",
      "**************************\n",
      "Index(['Age', 'Cabin_total', 'Parch', 'SibSp', 'norm_Fare',\n",
      "       'Cabin_firstletter_A', 'Cabin_firstletter_B', 'Cabin_firstletter_C',\n",
      "       'Cabin_firstletter_D', 'Cabin_firstletter_E', 'Cabin_firstletter_F',\n",
      "       'Cabin_firstletter_G', 'Cabin_firstletter_T', 'Cabin_firstletter_n',\n",
      "       'Embarked_C', 'Embarked_Q', 'Embarked_S', 'Pclass_1', 'Pclass_2',\n",
      "       'Pclass_3', 'Sex_female', 'Sex_male', 'Ticket_firstletter_A',\n",
      "       'Ticket_firstletter_C', 'Ticket_firstletter_F', 'Ticket_firstletter_L',\n",
      "       'Ticket_firstletter_None', 'Ticket_firstletter_P',\n",
      "       'Ticket_firstletter_S', 'Ticket_firstletter_W', 'name_title_adv_Col',\n",
      "       'name_title_adv_Dr', 'name_title_adv_Major', 'name_title_adv_Master',\n",
      "       'name_title_adv_Miss', 'name_title_adv_Mr', 'name_title_adv_Mrs',\n",
      "       'name_title_adv_Rev', 'name_title_adv_title_nonsurvive',\n",
      "       'name_title_adv_title_survive'],\n",
      "      dtype='object')\n",
      "\n",
      "************************the first 5 rows looks like this************************\n",
      "\n",
      "        Age  Cabin_total     Parch     SibSp  norm_Fare  Cabin_firstletter_A  \\\n",
      "0  0.357607    -0.488483 -0.473674 -0.474545  -0.809683                    0   \n",
      "1  1.299600    -0.488483 -0.473674  0.432793  -0.911513                    0   \n",
      "2  2.429993    -0.488483 -0.473674 -0.474545  -0.612461                    0   \n",
      "3 -0.207590    -0.488483 -0.473674 -0.474545  -0.716562                    0   \n",
      "4 -0.584387    -0.488483  0.767630  0.432793  -0.387631                    0   \n",
      "\n",
      "   Cabin_firstletter_B  Cabin_firstletter_C  Cabin_firstletter_D  \\\n",
      "0                    0                    0                    0   \n",
      "1                    0                    0                    0   \n",
      "2                    0                    0                    0   \n",
      "3                    0                    0                    0   \n",
      "4                    0                    0                    0   \n",
      "\n",
      "   Cabin_firstletter_E  ...  name_title_adv_Col  name_title_adv_Dr  \\\n",
      "0                    0  ...                   0                  0   \n",
      "1                    0  ...                   0                  0   \n",
      "2                    0  ...                   0                  0   \n",
      "3                    0  ...                   0                  0   \n",
      "4                    0  ...                   0                  0   \n",
      "\n",
      "   name_title_adv_Major  name_title_adv_Master  name_title_adv_Miss  \\\n",
      "0                     0                      0                    0   \n",
      "1                     0                      0                    0   \n",
      "2                     0                      0                    0   \n",
      "3                     0                      0                    0   \n",
      "4                     0                      0                    0   \n",
      "\n",
      "   name_title_adv_Mr  name_title_adv_Mrs  name_title_adv_Rev  \\\n",
      "0                  1                   0                   0   \n",
      "1                  0                   1                   0   \n",
      "2                  1                   0                   0   \n",
      "3                  1                   0                   0   \n",
      "4                  0                   1                   0   \n",
      "\n",
      "   name_title_adv_title_nonsurvive  name_title_adv_title_survive  \n",
      "0                                0                             0  \n",
      "1                                0                             0  \n",
      "2                                0                             0  \n",
      "3                                0                             0  \n",
      "4                                0                             0  \n",
      "\n",
      "[5 rows x 40 columns]\n"
     ]
    },
    {
     "data": {
      "text/plain": [
       "(891, 1)"
      ]
     },
     "execution_count": 2,
     "metadata": {},
     "output_type": "execute_result"
    }
   ],
   "source": [
    "X_train = read_in_dataset('X_train.csv', verbose = True)\n",
    "X_test = read_in_dataset('X_test.csv', verbose = True)\n",
    "test = read_in_dataset('data/test.csv')\n",
    "Y_train = pd.read_csv('Y_train.csv',header=None)\n",
    "Y_train.shape"
   ]
  },
  {
   "cell_type": "markdown",
   "metadata": {},
   "source": [
    "## 3.2 Try try different models using the default parameters\n",
    "* naive bayes 0.4668\n",
    "* Logistic regression 0.81933, turned to 0.8215\n",
    "* tree 0.7924\n",
    "* knn 0.8149, turned to 0.8249\n",
    "* RandomForest, 0.81, turned to 0.8339, to 0.8372\n",
    "* SVC, 0.8306, to 0.8350\n",
    "* xgboost, 0.8305, turned to 0.8451"
   ]
  },
  {
   "cell_type": "code",
   "execution_count": 11,
   "metadata": {},
   "outputs": [
    {
     "name": "stdout",
     "output_type": "stream",
     "text": [
      "[0.53072626 0.46368715 0.45505618 0.41573034 0.46892655]\n",
      "0.4668252956694957\n"
     ]
    }
   ],
   "source": [
    "#Use Naive Bayes as a baseline\n",
    "gnb = GaussianNB()\n",
    "cv = cross_val_score(gnb, X_train, Y_train.values.ravel(), cv = 5)\n",
    "print(cv)\n",
    "print(cv.mean())"
   ]
  },
  {
   "cell_type": "code",
   "execution_count": 14,
   "metadata": {},
   "outputs": [
    {
     "name": "stdout",
     "output_type": "stream",
     "text": [
      "[0.82122905 0.82681564 0.78089888 0.81460674 0.85310734]\n",
      "0.8193315310695454\n"
     ]
    }
   ],
   "source": [
    "lr = LogisticRegression(max_iter = 2000, solver='lbfgs')\n",
    "cv = cross_val_score(lr, X_train, Y_train.values.ravel(), cv = 5)\n",
    "print(cv)\n",
    "print(cv.mean())"
   ]
  },
  {
   "cell_type": "code",
   "execution_count": 15,
   "metadata": {},
   "outputs": [
    {
     "name": "stdout",
     "output_type": "stream",
     "text": [
      "[0.7877095  0.78212291 0.83707865 0.76404494 0.79096045]\n",
      "0.7923832899435312\n"
     ]
    }
   ],
   "source": [
    "dt = tree.DecisionTreeClassifier(random_state = 1)\n",
    "cv = cross_val_score(dt, X_train, Y_train.values.ravel(), cv = 5)\n",
    "print(cv)\n",
    "print(cv.mean())"
   ]
  },
  {
   "cell_type": "code",
   "execution_count": 16,
   "metadata": {},
   "outputs": [
    {
     "name": "stdout",
     "output_type": "stream",
     "text": [
      "[0.79888268 0.77094972 0.83707865 0.83146067 0.83615819]\n",
      "0.8149059840335457\n"
     ]
    }
   ],
   "source": [
    "knn = KNeighborsClassifier()\n",
    "cv = cross_val_score(knn, X_train, Y_train.values.ravel(), cv = 5)\n",
    "print(cv)\n",
    "print(cv.mean())"
   ]
  },
  {
   "cell_type": "code",
   "execution_count": 18,
   "metadata": {},
   "outputs": [
    {
     "name": "stdout",
     "output_type": "stream",
     "text": [
      "[0.79329609 0.80446927 0.84269663 0.78089888 0.83615819]\n",
      "0.8115038121673729\n"
     ]
    }
   ],
   "source": [
    "rf = RandomForestClassifier(random_state = 1, n_estimators = 10)\n",
    "cv = cross_val_score(rf, X_train, Y_train.values.ravel(), cv = 5)\n",
    "print(cv)\n",
    "print(cv.mean())"
   ]
  },
  {
   "cell_type": "code",
   "execution_count": 20,
   "metadata": {},
   "outputs": [
    {
     "name": "stdout",
     "output_type": "stream",
     "text": [
      "[0.84357542 0.82681564 0.8258427  0.79213483 0.86440678]\n",
      "0.8305550738406838\n"
     ]
    }
   ],
   "source": [
    "svc = SVC(probability = True, gamma = 'auto')\n",
    "cv = cross_val_score(svc, X_train, Y_train.values.ravel(), cv = 5)\n",
    "print(cv)\n",
    "print(cv.mean())"
   ]
  },
  {
   "cell_type": "code",
   "execution_count": 24,
   "metadata": {},
   "outputs": [
    {
     "name": "stdout",
     "output_type": "stream",
     "text": [
      "[0.82681564 0.82122905 0.86516854 0.82022472 0.81920904]\n",
      "0.8305293981424839\n"
     ]
    }
   ],
   "source": [
    "xgb = XGBClassifier(random_state = 1)\n",
    "cv = cross_val_score(xgb, X_train, Y_train.values.ravel(), cv = 5)\n",
    "print(cv)\n",
    "print(cv.mean())"
   ]
  },
  {
   "cell_type": "code",
   "execution_count": 26,
   "metadata": {},
   "outputs": [],
   "source": [
    "\n",
    "voting_clf = VotingClassifier(estimators = [('gnb', gnb), ('lr', lr), ('dt', dt), ('knn', knn), ('rf', rf),  \n",
    "                                            ('svc', svc), ('xgb', xgb)], voting = 'soft')"
   ]
  },
  {
   "cell_type": "code",
   "execution_count": 29,
   "metadata": {},
   "outputs": [
    {
     "name": "stdout",
     "output_type": "stream",
     "text": [
      "[0.82681564 0.81564246 0.84269663 0.80898876 0.83615819]\n",
      "0.8260603371814963\n"
     ]
    }
   ],
   "source": [
    "cv = cross_val_score(voting_clf, X_train, Y_train.values.ravel(), cv = 5)\n",
    "print(cv)\n",
    "print(cv.mean())"
   ]
  },
  {
   "cell_type": "code",
   "execution_count": 39,
   "metadata": {},
   "outputs": [],
   "source": [
    "voting_clf.fit(X_train, Y_train.values.ravel())\n",
    "Y_hat_base_vc = voting_clf.predict(X_test).astype(int)\n",
    "basic_submission = {'PassengerId': test.PassengerId, 'Survived': Y_hat_base_vc}\n",
    "base_submission = pd.DataFrame(data = basic_submission)\n",
    "base_submission.to_csv('base_submission.csv', index = False)"
   ]
  },
  {
   "cell_type": "code",
   "execution_count": 38,
   "metadata": {},
   "outputs": [
    {
     "data": {
      "text/plain": [
       "dtype('int64')"
      ]
     },
     "execution_count": 38,
     "metadata": {},
     "output_type": "execute_result"
    }
   ],
   "source": [
    "Y_hat_base_vc.dtype"
   ]
  },
  {
   "cell_type": "markdown",
   "metadata": {},
   "source": [
    "## 3.4 Model Tuning"
   ]
  },
  {
   "cell_type": "code",
   "execution_count": 46,
   "metadata": {},
   "outputs": [
    {
     "name": "stdout",
     "output_type": "stream",
     "text": [
      "Fitting 5 folds for each of 40 candidates, totalling 200 fits\n"
     ]
    },
    {
     "name": "stderr",
     "output_type": "stream",
     "text": [
      "[Parallel(n_jobs=-1)]: Using backend LokyBackend with 4 concurrent workers.\n"
     ]
    },
    {
     "name": "stdout",
     "output_type": "stream",
     "text": [
      "Logistic Regression\n",
      "Best Score: 0.8215488215488216\n",
      "Best Parameters: {'C': 78.47599703514607, 'max_iter': 2000, 'penalty': 'l1', 'solver': 'liblinear'}\n"
     ]
    },
    {
     "name": "stderr",
     "output_type": "stream",
     "text": [
      "[Parallel(n_jobs=-1)]: Done 200 out of 200 | elapsed:    1.9s finished\n"
     ]
    }
   ],
   "source": [
    "lr = LogisticRegression()\n",
    "param_grid = {'max_iter': [2000],\n",
    "             'penalty': ['l1', 'l2'],\n",
    "             'C': np.logspace(-4, 4, 20),\n",
    "             'solver': ['liblinear']}\n",
    "\n",
    "clf_lr = GridSearchCV(lr, param_grid = param_grid, cv = 5, verbose = True, n_jobs = -1)\n",
    "best_clf_lr = clf_lr.fit(X_train, Y_train.values.ravel())\n",
    "clf_performance(best_clf_lr, 'Logistic Regression')"
   ]
  },
  {
   "cell_type": "code",
   "execution_count": 47,
   "metadata": {},
   "outputs": [
    {
     "name": "stdout",
     "output_type": "stream",
     "text": [
      "Fitting 5 folds for each of 48 candidates, totalling 240 fits\n"
     ]
    },
    {
     "name": "stderr",
     "output_type": "stream",
     "text": [
      "[Parallel(n_jobs=-1)]: Using backend LokyBackend with 4 concurrent workers.\n"
     ]
    },
    {
     "name": "stdout",
     "output_type": "stream",
     "text": [
      "KNN\n",
      "Best Score: 0.8249158249158249\n",
      "Best Parameters: {'algorithm': 'auto', 'n_neighbors': 7, 'p': 2, 'weights': 'uniform'}\n"
     ]
    },
    {
     "name": "stderr",
     "output_type": "stream",
     "text": [
      "[Parallel(n_jobs=-1)]: Done 240 out of 240 | elapsed:    1.9s finished\n"
     ]
    }
   ],
   "source": [
    "knn = KNeighborsClassifier()\n",
    "param_grid = {'n_neighbors': [3, 5, 7, 9],\n",
    "             'weights': ['uniform', 'distance'],\n",
    "             'algorithm': ['auto', 'ball_tree', 'kd_tree'],\n",
    "             'p': [1,2]}\n",
    "clf_knn = GridSearchCV(knn, param_grid = param_grid, cv = 5, verbose = True, n_jobs = -1)\n",
    "best_clf_knn = clf_knn.fit(X_train, Y_train.values.ravel())\n",
    "clf_performance(best_clf_knn, 'KNN')"
   ]
  },
  {
   "cell_type": "code",
   "execution_count": 48,
   "metadata": {},
   "outputs": [
    {
     "name": "stdout",
     "output_type": "stream",
     "text": [
      "Fitting 5 folds for each of 55 candidates, totalling 275 fits\n"
     ]
    },
    {
     "name": "stderr",
     "output_type": "stream",
     "text": [
      "[Parallel(n_jobs=-1)]: Using backend LokyBackend with 4 concurrent workers.\n",
      "[Parallel(n_jobs=-1)]: Done  42 tasks      | elapsed:    2.7s\n",
      "[Parallel(n_jobs=-1)]: Done 192 tasks      | elapsed:  1.6min\n"
     ]
    },
    {
     "name": "stdout",
     "output_type": "stream",
     "text": [
      "SVC\n",
      "Best Score: 0.835016835016835\n",
      "Best Parameters: {'C': 10, 'degree': 2, 'kernel': 'poly'}\n"
     ]
    },
    {
     "name": "stderr",
     "output_type": "stream",
     "text": [
      "[Parallel(n_jobs=-1)]: Done 275 out of 275 | elapsed:  2.8min finished\n",
      "/opt/anaconda3/lib/python3.7/site-packages/sklearn/model_selection/_search.py:814: DeprecationWarning: The default of the `iid` parameter will change from True to False in version 0.22 and will be removed in 0.24. This will change numeric results when test-set sizes are unequal.\n",
      "  DeprecationWarning)\n",
      "/opt/anaconda3/lib/python3.7/site-packages/sklearn/svm/base.py:193: FutureWarning: The default value of gamma will change from 'auto' to 'scale' in version 0.22 to account better for unscaled features. Set gamma explicitly to 'auto' or 'scale' to avoid this warning.\n",
      "  \"avoid this warning.\", FutureWarning)\n"
     ]
    }
   ],
   "source": [
    "svc = SVC(probability = True)\n",
    "param_grid = turned_parameters = [{'kernel': ['rbf'], 'gamma': [.1, .5, 1, 2, 5, 10],\n",
    "                                  'C': [.1, 1, 10, 100, 1000]},\n",
    "                                 {'kernel': ['linear'], 'C': [.1, 1, 10, 100, 1000]}, \n",
    "                                 {'kernel': ['poly'], 'degree': [2, 3, 4, 5], 'C': [.1, 1, 10, 100, 1000]}]\n",
    "clf_svc = GridSearchCV(svc, param_grid = param_grid, cv = 5, verbose = True, n_jobs = -1)\n",
    "best_clf_svc = clf_svc.fit(X_train, Y_train.values.ravel())\n",
    "clf_performance(best_clf_svc, 'SVC')"
   ]
  },
  {
   "cell_type": "code",
   "execution_count": 4,
   "metadata": {},
   "outputs": [
    {
     "name": "stdout",
     "output_type": "stream",
     "text": [
      "Fitting 5 folds for each of 100 candidates, totalling 500 fits\n"
     ]
    },
    {
     "name": "stderr",
     "output_type": "stream",
     "text": [
      "[Parallel(n_jobs=-1)]: Using backend LokyBackend with 4 concurrent workers.\n",
      "[Parallel(n_jobs=-1)]: Done  42 tasks      | elapsed:   19.5s\n",
      "[Parallel(n_jobs=-1)]: Done 192 tasks      | elapsed:  1.9min\n",
      "[Parallel(n_jobs=-1)]: Done 442 tasks      | elapsed:  4.0min\n",
      "[Parallel(n_jobs=-1)]: Done 500 out of 500 | elapsed:  4.6min finished\n"
     ]
    },
    {
     "name": "stdout",
     "output_type": "stream",
     "text": [
      "Random Forest\n",
      "Best Score: 0.835016835016835\n",
      "Best Parameters: {'n_estimators': 1000, 'min_samples_split': 10, 'min_samples_leaf': 1, 'max_features': 'auto', 'max_depth': 75, 'bootstrap': True}\n"
     ]
    }
   ],
   "source": [
    "#use random search to narrow down the space for random forest\n",
    "rf = RandomForestClassifier(random_state = 1)\n",
    "param_grid = {'n_estimators': [100, 500, 1000],\n",
    "             'bootstrap': [True, False],\n",
    "             'max_depth': [3, 5, 10, 20, 50, 75, 100, None],\n",
    "             'max_features': ['auto', 'sqrt'],\n",
    "             'min_samples_leaf': [1, 2, 4, 10],\n",
    "             'min_samples_split': [2, 5, 10]}\n",
    "clf_rf = RandomizedSearchCV(rf, param_distributions = param_grid, n_iter = 100, cv = 5, verbose = True, n_jobs = -1)\n",
    "best_clf_rf = clf_rf.fit(X_train, Y_train.values.ravel())\n",
    "clf_performance(best_clf_rf, 'Random Forest')"
   ]
  },
  {
   "cell_type": "code",
   "execution_count": 51,
   "metadata": {},
   "outputs": [
    {
     "name": "stdout",
     "output_type": "stream",
     "text": [
      "Fitting 5 folds for each of 100 candidates, totalling 500 fits\n"
     ]
    },
    {
     "name": "stderr",
     "output_type": "stream",
     "text": [
      "[Parallel(n_jobs=-1)]: Using backend LokyBackend with 4 concurrent workers.\n",
      "[Parallel(n_jobs=-1)]: Done  42 tasks      | elapsed:   40.2s\n",
      "[Parallel(n_jobs=-1)]: Done 192 tasks      | elapsed:  2.6min\n",
      "[Parallel(n_jobs=-1)]: Done 442 tasks      | elapsed:  5.7min\n",
      "[Parallel(n_jobs=-1)]: Done 500 out of 500 | elapsed:  6.4min finished\n"
     ]
    },
    {
     "name": "stdout",
     "output_type": "stream",
     "text": [
      "Random Forest 2\n",
      "Best Score: 0.8372615039281706\n",
      "Best Parameters: {'n_estimators': 900, 'min_samples_split': 11, 'min_samples_leaf': 2, 'max_features': 'auto', 'max_depth': 25, 'criterion': 'entropy', 'bootstrap': False}\n"
     ]
    }
   ],
   "source": [
    "rf = RandomForestClassifier(random_state = 1)\n",
    "param_grid = {'n_estimators': [800, 900, 1000, 1100, 1200],\n",
    "             'criterion': ['gini','entropy'],\n",
    "             'bootstrap': [False],\n",
    "             'max_depth': [15, 20, 25],\n",
    "             'max_features': ['auto', 'sqrt', 10],\n",
    "             'min_samples_leaf': [2, 3],\n",
    "             'min_samples_split': [9, 10, 11]}\n",
    "clf_rf = RandomizedSearchCV(rf, param_distributions = param_grid, n_iter = 100, cv = 5, verbose = True, n_jobs = -1)\n",
    "best_clf_rf = clf_rf.fit(X_train, Y_train.values.ravel())\n",
    "clf_performance(best_clf_rf, 'Random Forest 2')"
   ]
  },
  {
   "cell_type": "code",
   "execution_count": 53,
   "metadata": {},
   "outputs": [
    {
     "data": {
      "text/plain": [
       "<matplotlib.axes._subplots.AxesSubplot at 0x7fa8f62b1ed0>"
      ]
     },
     "execution_count": 53,
     "metadata": {},
     "output_type": "execute_result"
    }
   ],
   "source": [
    "best_rf = best_clf_rf.best_estimator_.fit(X_train, Y_train.values.ravel())\n",
    "feat_importances = pd.Series(best_rf.feature_importances_, index = X_train.columns)\n",
    "feat_importances.nlargest(20).plot(kind = 'barh')"
   ]
  },
  {
   "cell_type": "code",
   "execution_count": 54,
   "metadata": {},
   "outputs": [
    {
     "name": "stdout",
     "output_type": "stream",
     "text": [
      "name_title_adv_Mr          0.134457\n",
      "norm_Fare                  0.130868\n",
      "Sex_male                   0.113910\n",
      "Age                        0.110472\n",
      "Sex_female                 0.106597\n",
      "Pclass_3                   0.059647\n",
      "SibSp                      0.041508\n",
      "name_title_adv_Mrs         0.033677\n",
      "Cabin_total                0.032582\n",
      "Cabin_firstletter_n        0.029096\n",
      "name_title_adv_Miss        0.028958\n",
      "Pclass_1                   0.025715\n",
      "Pclass_2                   0.021339\n",
      "Parch                      0.020630\n",
      "name_title_adv_Master      0.015554\n",
      "Embarked_S                 0.011729\n",
      "Ticket_firstletter_None    0.011040\n",
      "Embarked_C                 0.010168\n",
      "Ticket_firstletter_S       0.007420\n",
      "Embarked_Q                 0.006616\n",
      "dtype: float64\n"
     ]
    }
   ],
   "source": [
    "print(feat_importances.nlargest(20))"
   ]
  },
  {
   "cell_type": "code",
   "execution_count": 5,
   "metadata": {},
   "outputs": [
    {
     "name": "stdout",
     "output_type": "stream",
     "text": [
      "Fitting 5 folds for each of 100 candidates, totalling 500 fits\n"
     ]
    },
    {
     "name": "stderr",
     "output_type": "stream",
     "text": [
      "[Parallel(n_jobs=-1)]: Using backend LokyBackend with 4 concurrent workers.\n",
      "[Parallel(n_jobs=-1)]: Done  42 tasks      | elapsed:   14.7s\n",
      "[Parallel(n_jobs=-1)]: Done 192 tasks      | elapsed:   40.6s\n",
      "[Parallel(n_jobs=-1)]: Done 457 tasks      | elapsed:  1.7min\n"
     ]
    },
    {
     "name": "stdout",
     "output_type": "stream",
     "text": [
      "XGB random\n",
      "Best Score: 0.8417508417508418\n",
      "Best Parameters: {'subsample': 0.7, 'sampling_method': 'uniform', 'reg_lambda': 2, 'reg_alpha': 0.5, 'n_estimators': 100, 'min_child_weight': 0.01, 'max_depth': 10, 'learning_rate': 0.3, 'gamma': 0.01, 'colsample_bytree': 0.2}\n"
     ]
    },
    {
     "name": "stderr",
     "output_type": "stream",
     "text": [
      "[Parallel(n_jobs=-1)]: Done 500 out of 500 | elapsed:  1.9min finished\n",
      "/opt/anaconda3/lib/python3.7/site-packages/sklearn/model_selection/_search.py:814: DeprecationWarning: The default of the `iid` parameter will change from True to False in version 0.22 and will be removed in 0.24. This will change numeric results when test-set sizes are unequal.\n",
      "  DeprecationWarning)\n"
     ]
    }
   ],
   "source": [
    "xgb = XGBClassifier(random_state = 1)\n",
    "param_grid = {\n",
    "    'n_estimators': [20, 50, 100, 250, 500, 1000],\n",
    "    'colsample_bytree': [0.2, 0.5, 0.7, 0.8, 1],\n",
    "    'max_depth': [2, 5, 10, 15, 20, 25, None],\n",
    "    'reg_alpha': [0, 0.5, 1],\n",
    "    'reg_lambda': [1, 1.5, 2],\n",
    "    'subsample': [0.5, 0.6, 0.7, 0.8, 0.9],\n",
    "    'learning_rate': [.01, 0.1, 0.2, 0.3, 0.5, 0.7, 0.9],\n",
    "    'gamma': [0, .01, .1, 1, 10, 100],\n",
    "    'min_child_weight': [0, .01, .1, 1, 10, 100],\n",
    "    'sampling_method': ['uniform']\n",
    "}\n",
    "clf_xgb_rnd = RandomizedSearchCV(xgb, param_distributions = param_grid, n_iter = 100, cv = 5, \n",
    "                                 verbose = True, n_jobs = -1)\n",
    "best_clf_xgb_rnd = clf_xgb_rnd.fit(X_train, Y_train.values.ravel())\n",
    "clf_performance(best_clf_xgb_rnd, 'XGB random')"
   ]
  },
  {
   "cell_type": "code",
   "execution_count": 66,
   "metadata": {},
   "outputs": [],
   "source": [
    "Y_hat_xgb_rnd = best_clf_xgb_rnd.best_estimator_.predict(X_test).astype(int)\n",
    "xgb_rnd_submission = {'PassengerId': test.PassengerId, 'Survived': Y_hat_xgb_rnd}\n",
    "submission_xgb_rnd = pd.DataFrame(data = xgb_rnd_submission)\n",
    "submission_xgb_rnd.to_csv('xgb_rnd_submission.csv', index = False)"
   ]
  },
  {
   "cell_type": "code",
   "execution_count": 68,
   "metadata": {},
   "outputs": [
    {
     "name": "stderr",
     "output_type": "stream",
     "text": [
      "/opt/anaconda3/lib/python3.7/site-packages/sklearn/svm/base.py:193: FutureWarning: The default value of gamma will change from 'auto' to 'scale' in version 0.22 to account better for unscaled features. Set gamma explicitly to 'auto' or 'scale' to avoid this warning.\n",
      "  \"avoid this warning.\", FutureWarning)\n",
      "/opt/anaconda3/lib/python3.7/site-packages/sklearn/svm/base.py:193: FutureWarning: The default value of gamma will change from 'auto' to 'scale' in version 0.22 to account better for unscaled features. Set gamma explicitly to 'auto' or 'scale' to avoid this warning.\n",
      "  \"avoid this warning.\", FutureWarning)\n",
      "/opt/anaconda3/lib/python3.7/site-packages/sklearn/svm/base.py:193: FutureWarning: The default value of gamma will change from 'auto' to 'scale' in version 0.22 to account better for unscaled features. Set gamma explicitly to 'auto' or 'scale' to avoid this warning.\n",
      "  \"avoid this warning.\", FutureWarning)\n",
      "/opt/anaconda3/lib/python3.7/site-packages/sklearn/svm/base.py:193: FutureWarning: The default value of gamma will change from 'auto' to 'scale' in version 0.22 to account better for unscaled features. Set gamma explicitly to 'auto' or 'scale' to avoid this warning.\n",
      "  \"avoid this warning.\", FutureWarning)\n",
      "/opt/anaconda3/lib/python3.7/site-packages/sklearn/svm/base.py:193: FutureWarning: The default value of gamma will change from 'auto' to 'scale' in version 0.22 to account better for unscaled features. Set gamma explicitly to 'auto' or 'scale' to avoid this warning.\n",
      "  \"avoid this warning.\", FutureWarning)\n"
     ]
    },
    {
     "name": "stdout",
     "output_type": "stream",
     "text": [
      "voting_clf_hard:  [0.84357542 0.81564246 0.84269663 0.79775281 0.85310734]\n"
     ]
    },
    {
     "name": "stderr",
     "output_type": "stream",
     "text": [
      "/opt/anaconda3/lib/python3.7/site-packages/sklearn/svm/base.py:193: FutureWarning: The default value of gamma will change from 'auto' to 'scale' in version 0.22 to account better for unscaled features. Set gamma explicitly to 'auto' or 'scale' to avoid this warning.\n",
      "  \"avoid this warning.\", FutureWarning)\n",
      "/opt/anaconda3/lib/python3.7/site-packages/sklearn/svm/base.py:193: FutureWarning: The default value of gamma will change from 'auto' to 'scale' in version 0.22 to account better for unscaled features. Set gamma explicitly to 'auto' or 'scale' to avoid this warning.\n",
      "  \"avoid this warning.\", FutureWarning)\n",
      "/opt/anaconda3/lib/python3.7/site-packages/sklearn/svm/base.py:193: FutureWarning: The default value of gamma will change from 'auto' to 'scale' in version 0.22 to account better for unscaled features. Set gamma explicitly to 'auto' or 'scale' to avoid this warning.\n",
      "  \"avoid this warning.\", FutureWarning)\n",
      "/opt/anaconda3/lib/python3.7/site-packages/sklearn/svm/base.py:193: FutureWarning: The default value of gamma will change from 'auto' to 'scale' in version 0.22 to account better for unscaled features. Set gamma explicitly to 'auto' or 'scale' to avoid this warning.\n",
      "  \"avoid this warning.\", FutureWarning)\n",
      "/opt/anaconda3/lib/python3.7/site-packages/sklearn/svm/base.py:193: FutureWarning: The default value of gamma will change from 'auto' to 'scale' in version 0.22 to account better for unscaled features. Set gamma explicitly to 'auto' or 'scale' to avoid this warning.\n",
      "  \"avoid this warning.\", FutureWarning)\n"
     ]
    },
    {
     "name": "stdout",
     "output_type": "stream",
     "text": [
      "voting_clf_hard mean:  0.8305549319859976\n"
     ]
    },
    {
     "name": "stderr",
     "output_type": "stream",
     "text": [
      "/opt/anaconda3/lib/python3.7/site-packages/sklearn/svm/base.py:193: FutureWarning: The default value of gamma will change from 'auto' to 'scale' in version 0.22 to account better for unscaled features. Set gamma explicitly to 'auto' or 'scale' to avoid this warning.\n",
      "  \"avoid this warning.\", FutureWarning)\n",
      "/opt/anaconda3/lib/python3.7/site-packages/sklearn/svm/base.py:193: FutureWarning: The default value of gamma will change from 'auto' to 'scale' in version 0.22 to account better for unscaled features. Set gamma explicitly to 'auto' or 'scale' to avoid this warning.\n",
      "  \"avoid this warning.\", FutureWarning)\n",
      "/opt/anaconda3/lib/python3.7/site-packages/sklearn/svm/base.py:193: FutureWarning: The default value of gamma will change from 'auto' to 'scale' in version 0.22 to account better for unscaled features. Set gamma explicitly to 'auto' or 'scale' to avoid this warning.\n",
      "  \"avoid this warning.\", FutureWarning)\n",
      "/opt/anaconda3/lib/python3.7/site-packages/sklearn/svm/base.py:193: FutureWarning: The default value of gamma will change from 'auto' to 'scale' in version 0.22 to account better for unscaled features. Set gamma explicitly to 'auto' or 'scale' to avoid this warning.\n",
      "  \"avoid this warning.\", FutureWarning)\n",
      "/opt/anaconda3/lib/python3.7/site-packages/sklearn/svm/base.py:193: FutureWarning: The default value of gamma will change from 'auto' to 'scale' in version 0.22 to account better for unscaled features. Set gamma explicitly to 'auto' or 'scale' to avoid this warning.\n",
      "  \"avoid this warning.\", FutureWarning)\n"
     ]
    },
    {
     "name": "stdout",
     "output_type": "stream",
     "text": [
      "voting_clf_soft:  [0.83798883 0.81564246 0.8258427  0.79775281 0.8700565 ]\n"
     ]
    },
    {
     "name": "stderr",
     "output_type": "stream",
     "text": [
      "/opt/anaconda3/lib/python3.7/site-packages/sklearn/svm/base.py:193: FutureWarning: The default value of gamma will change from 'auto' to 'scale' in version 0.22 to account better for unscaled features. Set gamma explicitly to 'auto' or 'scale' to avoid this warning.\n",
      "  \"avoid this warning.\", FutureWarning)\n",
      "/opt/anaconda3/lib/python3.7/site-packages/sklearn/svm/base.py:193: FutureWarning: The default value of gamma will change from 'auto' to 'scale' in version 0.22 to account better for unscaled features. Set gamma explicitly to 'auto' or 'scale' to avoid this warning.\n",
      "  \"avoid this warning.\", FutureWarning)\n",
      "/opt/anaconda3/lib/python3.7/site-packages/sklearn/svm/base.py:193: FutureWarning: The default value of gamma will change from 'auto' to 'scale' in version 0.22 to account better for unscaled features. Set gamma explicitly to 'auto' or 'scale' to avoid this warning.\n",
      "  \"avoid this warning.\", FutureWarning)\n",
      "/opt/anaconda3/lib/python3.7/site-packages/sklearn/svm/base.py:193: FutureWarning: The default value of gamma will change from 'auto' to 'scale' in version 0.22 to account better for unscaled features. Set gamma explicitly to 'auto' or 'scale' to avoid this warning.\n",
      "  \"avoid this warning.\", FutureWarning)\n",
      "/opt/anaconda3/lib/python3.7/site-packages/sklearn/svm/base.py:193: FutureWarning: The default value of gamma will change from 'auto' to 'scale' in version 0.22 to account better for unscaled features. Set gamma explicitly to 'auto' or 'scale' to avoid this warning.\n",
      "  \"avoid this warning.\", FutureWarning)\n"
     ]
    },
    {
     "name": "stdout",
     "output_type": "stream",
     "text": [
      "voting_clf_soft mean:  0.830580253047482\n"
     ]
    },
    {
     "name": "stderr",
     "output_type": "stream",
     "text": [
      "/opt/anaconda3/lib/python3.7/site-packages/sklearn/svm/base.py:193: FutureWarning: The default value of gamma will change from 'auto' to 'scale' in version 0.22 to account better for unscaled features. Set gamma explicitly to 'auto' or 'scale' to avoid this warning.\n",
      "  \"avoid this warning.\", FutureWarning)\n",
      "/opt/anaconda3/lib/python3.7/site-packages/sklearn/svm/base.py:193: FutureWarning: The default value of gamma will change from 'auto' to 'scale' in version 0.22 to account better for unscaled features. Set gamma explicitly to 'auto' or 'scale' to avoid this warning.\n",
      "  \"avoid this warning.\", FutureWarning)\n",
      "/opt/anaconda3/lib/python3.7/site-packages/sklearn/svm/base.py:193: FutureWarning: The default value of gamma will change from 'auto' to 'scale' in version 0.22 to account better for unscaled features. Set gamma explicitly to 'auto' or 'scale' to avoid this warning.\n",
      "  \"avoid this warning.\", FutureWarning)\n",
      "/opt/anaconda3/lib/python3.7/site-packages/sklearn/svm/base.py:193: FutureWarning: The default value of gamma will change from 'auto' to 'scale' in version 0.22 to account better for unscaled features. Set gamma explicitly to 'auto' or 'scale' to avoid this warning.\n",
      "  \"avoid this warning.\", FutureWarning)\n",
      "/opt/anaconda3/lib/python3.7/site-packages/sklearn/svm/base.py:193: FutureWarning: The default value of gamma will change from 'auto' to 'scale' in version 0.22 to account better for unscaled features. Set gamma explicitly to 'auto' or 'scale' to avoid this warning.\n",
      "  \"avoid this warning.\", FutureWarning)\n"
     ]
    },
    {
     "name": "stdout",
     "output_type": "stream",
     "text": [
      "voting_clf_all:  [0.83240223 0.81564246 0.84269663 0.79775281 0.8700565 ]\n"
     ]
    },
    {
     "name": "stderr",
     "output_type": "stream",
     "text": [
      "/opt/anaconda3/lib/python3.7/site-packages/sklearn/svm/base.py:193: FutureWarning: The default value of gamma will change from 'auto' to 'scale' in version 0.22 to account better for unscaled features. Set gamma explicitly to 'auto' or 'scale' to avoid this warning.\n",
      "  \"avoid this warning.\", FutureWarning)\n",
      "/opt/anaconda3/lib/python3.7/site-packages/sklearn/svm/base.py:193: FutureWarning: The default value of gamma will change from 'auto' to 'scale' in version 0.22 to account better for unscaled features. Set gamma explicitly to 'auto' or 'scale' to avoid this warning.\n",
      "  \"avoid this warning.\", FutureWarning)\n",
      "/opt/anaconda3/lib/python3.7/site-packages/sklearn/svm/base.py:193: FutureWarning: The default value of gamma will change from 'auto' to 'scale' in version 0.22 to account better for unscaled features. Set gamma explicitly to 'auto' or 'scale' to avoid this warning.\n",
      "  \"avoid this warning.\", FutureWarning)\n",
      "/opt/anaconda3/lib/python3.7/site-packages/sklearn/svm/base.py:193: FutureWarning: The default value of gamma will change from 'auto' to 'scale' in version 0.22 to account better for unscaled features. Set gamma explicitly to 'auto' or 'scale' to avoid this warning.\n",
      "  \"avoid this warning.\", FutureWarning)\n",
      "/opt/anaconda3/lib/python3.7/site-packages/sklearn/svm/base.py:193: FutureWarning: The default value of gamma will change from 'auto' to 'scale' in version 0.22 to account better for unscaled features. Set gamma explicitly to 'auto' or 'scale' to avoid this warning.\n",
      "  \"avoid this warning.\", FutureWarning)\n"
     ]
    },
    {
     "name": "stdout",
     "output_type": "stream",
     "text": [
      "voting_clf_all mean:  0.8317101256229638\n"
     ]
    },
    {
     "name": "stderr",
     "output_type": "stream",
     "text": [
      "/opt/anaconda3/lib/python3.7/site-packages/sklearn/svm/base.py:193: FutureWarning: The default value of gamma will change from 'auto' to 'scale' in version 0.22 to account better for unscaled features. Set gamma explicitly to 'auto' or 'scale' to avoid this warning.\n",
      "  \"avoid this warning.\", FutureWarning)\n",
      "/opt/anaconda3/lib/python3.7/site-packages/sklearn/svm/base.py:193: FutureWarning: The default value of gamma will change from 'auto' to 'scale' in version 0.22 to account better for unscaled features. Set gamma explicitly to 'auto' or 'scale' to avoid this warning.\n",
      "  \"avoid this warning.\", FutureWarning)\n",
      "/opt/anaconda3/lib/python3.7/site-packages/sklearn/svm/base.py:193: FutureWarning: The default value of gamma will change from 'auto' to 'scale' in version 0.22 to account better for unscaled features. Set gamma explicitly to 'auto' or 'scale' to avoid this warning.\n",
      "  \"avoid this warning.\", FutureWarning)\n",
      "/opt/anaconda3/lib/python3.7/site-packages/sklearn/svm/base.py:193: FutureWarning: The default value of gamma will change from 'auto' to 'scale' in version 0.22 to account better for unscaled features. Set gamma explicitly to 'auto' or 'scale' to avoid this warning.\n",
      "  \"avoid this warning.\", FutureWarning)\n",
      "/opt/anaconda3/lib/python3.7/site-packages/sklearn/svm/base.py:193: FutureWarning: The default value of gamma will change from 'auto' to 'scale' in version 0.22 to account better for unscaled features. Set gamma explicitly to 'auto' or 'scale' to avoid this warning.\n",
      "  \"avoid this warning.\", FutureWarning)\n"
     ]
    },
    {
     "name": "stdout",
     "output_type": "stream",
     "text": [
      "voting_clf_xgb:  [0.83798883 0.82681564 0.84269663 0.79775281 0.87570621]\n"
     ]
    },
    {
     "name": "stderr",
     "output_type": "stream",
     "text": [
      "/opt/anaconda3/lib/python3.7/site-packages/sklearn/svm/base.py:193: FutureWarning: The default value of gamma will change from 'auto' to 'scale' in version 0.22 to account better for unscaled features. Set gamma explicitly to 'auto' or 'scale' to avoid this warning.\n",
      "  \"avoid this warning.\", FutureWarning)\n",
      "/opt/anaconda3/lib/python3.7/site-packages/sklearn/svm/base.py:193: FutureWarning: The default value of gamma will change from 'auto' to 'scale' in version 0.22 to account better for unscaled features. Set gamma explicitly to 'auto' or 'scale' to avoid this warning.\n",
      "  \"avoid this warning.\", FutureWarning)\n",
      "/opt/anaconda3/lib/python3.7/site-packages/sklearn/svm/base.py:193: FutureWarning: The default value of gamma will change from 'auto' to 'scale' in version 0.22 to account better for unscaled features. Set gamma explicitly to 'auto' or 'scale' to avoid this warning.\n",
      "  \"avoid this warning.\", FutureWarning)\n",
      "/opt/anaconda3/lib/python3.7/site-packages/sklearn/svm/base.py:193: FutureWarning: The default value of gamma will change from 'auto' to 'scale' in version 0.22 to account better for unscaled features. Set gamma explicitly to 'auto' or 'scale' to avoid this warning.\n",
      "  \"avoid this warning.\", FutureWarning)\n",
      "/opt/anaconda3/lib/python3.7/site-packages/sklearn/svm/base.py:193: FutureWarning: The default value of gamma will change from 'auto' to 'scale' in version 0.22 to account better for unscaled features. Set gamma explicitly to 'auto' or 'scale' to avoid this warning.\n",
      "  \"avoid this warning.\", FutureWarning)\n"
     ]
    },
    {
     "name": "stdout",
     "output_type": "stream",
     "text": [
      "voting_clf_xgb mean:  0.8361920244330513\n"
     ]
    }
   ],
   "source": [
    "best_lr = best_clf_lr.best_estimator_\n",
    "best_knn = best_clf_knn.best_estimator_\n",
    "best_svc = best_clf_svc.best_estimator_\n",
    "best_rf = best_clf_rf.best_estimator_\n",
    "best_xgb = best_clf_xgb_rnd.best_estimator_\n",
    "\n",
    "voting_clf_hard = VotingClassifier(estimators = [('knn', best_knn), ('rf', best_rf), ('svc', best_svc)], \n",
    "                                                 voting = 'hard')\n",
    "voting_clf_soft = VotingClassifier(estimators = [('knn', best_knn), ('rf', best_rf), ('svc', best_svc)], \n",
    "                                                 voting = 'soft')\n",
    "voting_clf_all = VotingClassifier(estimators = [('knn', best_knn), ('rf', best_rf), ('svc', best_svc), \n",
    "                                                ('lr', best_lr)], voting = 'soft')\n",
    "voting_clf_xgb = VotingClassifier(estimators = [('knn', best_knn), ('rf', best_rf), ('svc', best_svc), \n",
    "                                                ('xgb', best_xgb),('lr', best_lr)], voting = 'soft')\n",
    "print('voting_clf_hard: ', cross_val_score(voting_clf_hard, X_train, Y_train.values.ravel(), cv = 5))\n",
    "print('voting_clf_hard mean: ', cross_val_score(voting_clf_hard, X_train, Y_train.values.ravel(), cv = 5).mean())\n",
    "\n",
    "print('voting_clf_soft: ', cross_val_score(voting_clf_soft, X_train, Y_train.values.ravel(), cv = 5))\n",
    "print('voting_clf_soft mean: ', cross_val_score(voting_clf_soft, X_train, Y_train.values.ravel(), cv = 5).mean())\n",
    "\n",
    "print('voting_clf_all: ', cross_val_score(voting_clf_all, X_train, Y_train.values.ravel(), cv = 5))\n",
    "print('voting_clf_all mean: ', cross_val_score(voting_clf_all, X_train, Y_train.values.ravel(), cv = 5).mean())\n",
    "\n",
    "print('voting_clf_xgb: ', cross_val_score(voting_clf_xgb, X_train, Y_train.values.ravel(), cv = 5))\n",
    "print('voting_clf_xgb mean: ', cross_val_score(voting_clf_xgb, X_train, Y_train.values.ravel(), cv = 5).mean())\n"
   ]
  },
  {
   "cell_type": "markdown",
   "metadata": {},
   "source": [
    "# 4. DEPLOY using the best model xgboost"
   ]
  },
  {
   "cell_type": "code",
   "execution_count": 6,
   "metadata": {},
   "outputs": [],
   "source": [
    "#clf_xgb_rnd mean has the best estimate\n",
    "Y_hat_xgb_rnd = best_clf_xgb_rnd.best_estimator_.predict(X_test).astype(int)\n",
    "xgb_rnd_submission = {'PassengerId': test.PassengerId, 'Survived': Y_hat_xgb_rnd}\n",
    "submission_xgb_rnd = pd.DataFrame(data = xgb_rnd_submission)\n",
    "submission_xgb_rnd.to_csv('xgb_rnd_submission.csv', index = False)"
   ]
  },
  {
   "cell_type": "code",
   "execution_count": 8,
   "metadata": {},
   "outputs": [
    {
     "data": {
      "text/plain": [
       "<AxesSubplot:>"
      ]
     },
     "execution_count": 8,
     "metadata": {},
     "output_type": "execute_result"
    }
   ],
   "source": [
    "best_clf_xgb_rnd = best_clf_xgb_rnd.best_estimator_.fit(X_train, Y_train.values.ravel())\n",
    "feat_importances = pd.Series(best_clf_xgb_rnd.feature_importances_, index = X_train.columns)\n",
    "feat_importances.nlargest(20).plot(kind = 'barh')"
   ]
  },
  {
   "cell_type": "code",
   "execution_count": 9,
   "metadata": {},
   "outputs": [
    {
     "name": "stdout",
     "output_type": "stream",
     "text": [
      "Sex_male                 0.375361\n",
      "name_title_adv_Master    0.078903\n",
      "Pclass_3                 0.068306\n",
      "Pclass_1                 0.029994\n",
      "Sex_female               0.029295\n",
      "norm_Fare                0.027792\n",
      "Embarked_S               0.027290\n",
      "SibSp                    0.020011\n",
      "name_title_adv_Mr        0.019461\n",
      "Age                      0.019317\n",
      "Cabin_firstletter_G      0.018700\n",
      "Pclass_2                 0.017393\n",
      "name_title_adv_Miss      0.017327\n",
      "Cabin_firstletter_C      0.017247\n",
      "Embarked_C               0.016396\n",
      "Cabin_firstletter_E      0.015445\n",
      "Parch                    0.014998\n",
      "Cabin_firstletter_n      0.014038\n",
      "Ticket_firstletter_S     0.011664\n",
      "Embarked_Q               0.011504\n",
      "dtype: float32\n"
     ]
    }
   ],
   "source": [
    "print(feat_importances.nlargest(20))"
   ]
  },
  {
   "cell_type": "code",
   "execution_count": 13,
   "metadata": {},
   "outputs": [
    {
     "data": {
      "text/plain": [
       "<AxesSubplot:>"
      ]
     },
     "execution_count": 13,
     "metadata": {},
     "output_type": "execute_result"
    },
    {
     "data": {
      "image/png": "[encoded data removed]",
      "text/plain": [
       "<Figure size 1080x432 with 1 Axes>"
      ]
     },
     "metadata": {
      "needs_background": "light"
     },
     "output_type": "display_data"
    }
   ],
   "source": [
    "feat_importances.nlargest(20).plot(kind = 'bar', figsize = (15,6))"
   ]
  },
  {
   "cell_type": "code",
   "execution_count": null,
   "metadata": {},
   "outputs": [],
   "source": []
  }
 ],
 "metadata": {
  "kernelspec": {
   "display_name": "Python 3",
   "language": "python",
   "name": "python3"
  },
  "language_info": {
   "codemirror_mode": {
    "name": "ipython",
    "version": 3
   },
   "file_extension": ".py",
   "mimetype": "text/x-python",
   "name": "python",
   "nbconvert_exporter": "python",
   "pygments_lexer": "ipython3",
   "version": "3.7.4"
  }
 },
 "nbformat": 4,
 "nbformat_minor": 2
}
